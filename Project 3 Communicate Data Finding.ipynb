{
 "cells": [
  {
   "cell_type": "markdown",
   "id": "sharp-apple",
   "metadata": {},
   "source": [
    "# Part I - (Exploratory Data Analysis of GoFordBike-System Dataset)\n",
    "## by (Emmanuel Olorunbogun)"
   ]
  },
  {
   "cell_type": "markdown",
   "id": "necessary-simpson",
   "metadata": {},
   "source": [
    "## Introduction\n",
    "> This data set includes information about individual rides made in a bike-sharing system covering the greater San Francisco Bay area.It consists of information about trips taken by service's members during february 2019."
   ]
  },
  {
   "cell_type": "markdown",
   "id": "victorian-assets",
   "metadata": {},
   "source": [
    "### Using the Requests library to download the GoFordBike-System Dataset"
   ]
  },
  {
   "cell_type": "code",
   "execution_count": 442,
   "id": "impaired-sharing",
   "metadata": {},
   "outputs": [],
   "source": [
    "# Importing the request libary\n",
    "import requests\n",
    "\n",
    "# Using the request library to download the fordgobike-tripdata.csv file programmatically\n",
    "url = 'https://video.udacity-data.com/topher/2020/October/5f91cf38_201902-fordgobike-tripdata/201902-fordgobike-tripdata.csv'\n",
    "response = requests.get(url)\n",
    "\n",
    "# writing it to file\n",
    "with open('201902-fordgobike-tripdata.csv', 'wb') as f:\n",
    "    f.write(response.content)"
   ]
  },
  {
   "cell_type": "code",
   "execution_count": 443,
   "id": "usual-naples",
   "metadata": {},
   "outputs": [],
   "source": [
    "# importing the necessary packages and setting the plots to be embedded inline\n",
    "import numpy as np\n",
    "import pandas as pd\n",
    "import matplotlib.pyplot as plt\n",
    "import seaborn as sb\n",
    "\n",
    "%matplotlib inline"
   ]
  },
  {
   "cell_type": "code",
   "execution_count": 444,
   "id": "dominican-chaos",
   "metadata": {},
   "outputs": [],
   "source": [
    "# reading the csv file into a DataFrame\n",
    "df = pd.read_csv('201902-fordgobike-tripdata.csv')"
   ]
  },
  {
   "cell_type": "markdown",
   "id": "marked-captain",
   "metadata": {},
   "source": [
    "\n",
    "## Preliminary Wrangling"
   ]
  },
  {
   "cell_type": "markdown",
   "id": "charged-prefix",
   "metadata": {},
   "source": [
    "### Assessing the Dataset\n",
    ">Here we'll be assessing the data for its general properties to get a better understanding of it. To do this, we'll be checking for the:\n",
    "- first five rows of the dataset\n",
    "- shape of the data\n",
    "- data type of the columns\n",
    "- descriptive statistics of the columns\n",
    "- columns containing missing values\n",
    "- duplicates in the dataset\n",
    "- Total number of columns with null values"
   ]
  },
  {
   "cell_type": "code",
   "execution_count": 445,
   "id": "medical-architecture",
   "metadata": {},
   "outputs": [
    {
     "data": {
      "text/html": [
       "<div>\n",
       "<style scoped>\n",
       "    .dataframe tbody tr th:only-of-type {\n",
       "        vertical-align: middle;\n",
       "    }\n",
       "\n",
       "    .dataframe tbody tr th {\n",
       "        vertical-align: top;\n",
       "    }\n",
       "\n",
       "    .dataframe thead th {\n",
       "        text-align: right;\n",
       "    }\n",
       "</style>\n",
       "<table border=\"1\" class=\"dataframe\">\n",
       "  <thead>\n",
       "    <tr style=\"text-align: right;\">\n",
       "      <th></th>\n",
       "      <th>duration_sec</th>\n",
       "      <th>start_time</th>\n",
       "      <th>end_time</th>\n",
       "      <th>start_station_id</th>\n",
       "      <th>start_station_name</th>\n",
       "      <th>start_station_latitude</th>\n",
       "      <th>start_station_longitude</th>\n",
       "      <th>end_station_id</th>\n",
       "      <th>end_station_name</th>\n",
       "      <th>end_station_latitude</th>\n",
       "      <th>end_station_longitude</th>\n",
       "      <th>bike_id</th>\n",
       "      <th>user_type</th>\n",
       "      <th>member_birth_year</th>\n",
       "      <th>member_gender</th>\n",
       "      <th>bike_share_for_all_trip</th>\n",
       "    </tr>\n",
       "  </thead>\n",
       "  <tbody>\n",
       "    <tr>\n",
       "      <th>0</th>\n",
       "      <td>52185</td>\n",
       "      <td>2019-02-28 17:32:10.1450</td>\n",
       "      <td>2019-03-01 08:01:55.9750</td>\n",
       "      <td>21.0</td>\n",
       "      <td>Montgomery St BART Station (Market St at 2nd St)</td>\n",
       "      <td>37.789625</td>\n",
       "      <td>-122.400811</td>\n",
       "      <td>13.0</td>\n",
       "      <td>Commercial St at Montgomery St</td>\n",
       "      <td>37.794231</td>\n",
       "      <td>-122.402923</td>\n",
       "      <td>4902</td>\n",
       "      <td>Customer</td>\n",
       "      <td>1984.0</td>\n",
       "      <td>Male</td>\n",
       "      <td>No</td>\n",
       "    </tr>\n",
       "    <tr>\n",
       "      <th>1</th>\n",
       "      <td>42521</td>\n",
       "      <td>2019-02-28 18:53:21.7890</td>\n",
       "      <td>2019-03-01 06:42:03.0560</td>\n",
       "      <td>23.0</td>\n",
       "      <td>The Embarcadero at Steuart St</td>\n",
       "      <td>37.791464</td>\n",
       "      <td>-122.391034</td>\n",
       "      <td>81.0</td>\n",
       "      <td>Berry St at 4th St</td>\n",
       "      <td>37.775880</td>\n",
       "      <td>-122.393170</td>\n",
       "      <td>2535</td>\n",
       "      <td>Customer</td>\n",
       "      <td>NaN</td>\n",
       "      <td>NaN</td>\n",
       "      <td>No</td>\n",
       "    </tr>\n",
       "    <tr>\n",
       "      <th>2</th>\n",
       "      <td>61854</td>\n",
       "      <td>2019-02-28 12:13:13.2180</td>\n",
       "      <td>2019-03-01 05:24:08.1460</td>\n",
       "      <td>86.0</td>\n",
       "      <td>Market St at Dolores St</td>\n",
       "      <td>37.769305</td>\n",
       "      <td>-122.426826</td>\n",
       "      <td>3.0</td>\n",
       "      <td>Powell St BART Station (Market St at 4th St)</td>\n",
       "      <td>37.786375</td>\n",
       "      <td>-122.404904</td>\n",
       "      <td>5905</td>\n",
       "      <td>Customer</td>\n",
       "      <td>1972.0</td>\n",
       "      <td>Male</td>\n",
       "      <td>No</td>\n",
       "    </tr>\n",
       "    <tr>\n",
       "      <th>3</th>\n",
       "      <td>36490</td>\n",
       "      <td>2019-02-28 17:54:26.0100</td>\n",
       "      <td>2019-03-01 04:02:36.8420</td>\n",
       "      <td>375.0</td>\n",
       "      <td>Grove St at Masonic Ave</td>\n",
       "      <td>37.774836</td>\n",
       "      <td>-122.446546</td>\n",
       "      <td>70.0</td>\n",
       "      <td>Central Ave at Fell St</td>\n",
       "      <td>37.773311</td>\n",
       "      <td>-122.444293</td>\n",
       "      <td>6638</td>\n",
       "      <td>Subscriber</td>\n",
       "      <td>1989.0</td>\n",
       "      <td>Other</td>\n",
       "      <td>No</td>\n",
       "    </tr>\n",
       "    <tr>\n",
       "      <th>4</th>\n",
       "      <td>1585</td>\n",
       "      <td>2019-02-28 23:54:18.5490</td>\n",
       "      <td>2019-03-01 00:20:44.0740</td>\n",
       "      <td>7.0</td>\n",
       "      <td>Frank H Ogawa Plaza</td>\n",
       "      <td>37.804562</td>\n",
       "      <td>-122.271738</td>\n",
       "      <td>222.0</td>\n",
       "      <td>10th Ave at E 15th St</td>\n",
       "      <td>37.792714</td>\n",
       "      <td>-122.248780</td>\n",
       "      <td>4898</td>\n",
       "      <td>Subscriber</td>\n",
       "      <td>1974.0</td>\n",
       "      <td>Male</td>\n",
       "      <td>Yes</td>\n",
       "    </tr>\n",
       "  </tbody>\n",
       "</table>\n",
       "</div>"
      ],
      "text/plain": [
       "   duration_sec                start_time                  end_time  \\\n",
       "0         52185  2019-02-28 17:32:10.1450  2019-03-01 08:01:55.9750   \n",
       "1         42521  2019-02-28 18:53:21.7890  2019-03-01 06:42:03.0560   \n",
       "2         61854  2019-02-28 12:13:13.2180  2019-03-01 05:24:08.1460   \n",
       "3         36490  2019-02-28 17:54:26.0100  2019-03-01 04:02:36.8420   \n",
       "4          1585  2019-02-28 23:54:18.5490  2019-03-01 00:20:44.0740   \n",
       "\n",
       "   start_station_id                                start_station_name  \\\n",
       "0              21.0  Montgomery St BART Station (Market St at 2nd St)   \n",
       "1              23.0                     The Embarcadero at Steuart St   \n",
       "2              86.0                           Market St at Dolores St   \n",
       "3             375.0                           Grove St at Masonic Ave   \n",
       "4               7.0                               Frank H Ogawa Plaza   \n",
       "\n",
       "   start_station_latitude  start_station_longitude  end_station_id  \\\n",
       "0               37.789625              -122.400811            13.0   \n",
       "1               37.791464              -122.391034            81.0   \n",
       "2               37.769305              -122.426826             3.0   \n",
       "3               37.774836              -122.446546            70.0   \n",
       "4               37.804562              -122.271738           222.0   \n",
       "\n",
       "                               end_station_name  end_station_latitude  \\\n",
       "0                Commercial St at Montgomery St             37.794231   \n",
       "1                            Berry St at 4th St             37.775880   \n",
       "2  Powell St BART Station (Market St at 4th St)             37.786375   \n",
       "3                        Central Ave at Fell St             37.773311   \n",
       "4                         10th Ave at E 15th St             37.792714   \n",
       "\n",
       "   end_station_longitude  bike_id   user_type  member_birth_year  \\\n",
       "0            -122.402923     4902    Customer             1984.0   \n",
       "1            -122.393170     2535    Customer                NaN   \n",
       "2            -122.404904     5905    Customer             1972.0   \n",
       "3            -122.444293     6638  Subscriber             1989.0   \n",
       "4            -122.248780     4898  Subscriber             1974.0   \n",
       "\n",
       "  member_gender bike_share_for_all_trip  \n",
       "0          Male                      No  \n",
       "1           NaN                      No  \n",
       "2          Male                      No  \n",
       "3         Other                      No  \n",
       "4          Male                     Yes  "
      ]
     },
     "execution_count": 445,
     "metadata": {},
     "output_type": "execute_result"
    }
   ],
   "source": [
    "# Checking the first five rows of the dataset\n",
    "df.head(5)"
   ]
  },
  {
   "cell_type": "code",
   "execution_count": 446,
   "id": "absolute-guard",
   "metadata": {},
   "outputs": [
    {
     "data": {
      "text/plain": [
       "(183412, 16)"
      ]
     },
     "execution_count": 446,
     "metadata": {},
     "output_type": "execute_result"
    }
   ],
   "source": [
    "# Checking the shape of the dataset - Number of rows & columns.\n",
    "df.shape"
   ]
  },
  {
   "cell_type": "code",
   "execution_count": 447,
   "id": "silent-westminster",
   "metadata": {},
   "outputs": [
    {
     "data": {
      "text/plain": [
       "duration_sec                 int64\n",
       "start_time                  object\n",
       "end_time                    object\n",
       "start_station_id           float64\n",
       "start_station_name          object\n",
       "start_station_latitude     float64\n",
       "start_station_longitude    float64\n",
       "end_station_id             float64\n",
       "end_station_name            object\n",
       "end_station_latitude       float64\n",
       "end_station_longitude      float64\n",
       "bike_id                      int64\n",
       "user_type                   object\n",
       "member_birth_year          float64\n",
       "member_gender               object\n",
       "bike_share_for_all_trip     object\n",
       "dtype: object"
      ]
     },
     "execution_count": 447,
     "metadata": {},
     "output_type": "execute_result"
    }
   ],
   "source": [
    "# Checking for the datatype of the column\n",
    "df.dtypes"
   ]
  },
  {
   "cell_type": "code",
   "execution_count": 448,
   "id": "needed-apple",
   "metadata": {},
   "outputs": [
    {
     "name": "stdout",
     "output_type": "stream",
     "text": [
      "<class 'pandas.core.frame.DataFrame'>\n",
      "RangeIndex: 183412 entries, 0 to 183411\n",
      "Data columns (total 16 columns):\n",
      " #   Column                   Non-Null Count   Dtype  \n",
      "---  ------                   --------------   -----  \n",
      " 0   duration_sec             183412 non-null  int64  \n",
      " 1   start_time               183412 non-null  object \n",
      " 2   end_time                 183412 non-null  object \n",
      " 3   start_station_id         183215 non-null  float64\n",
      " 4   start_station_name       183215 non-null  object \n",
      " 5   start_station_latitude   183412 non-null  float64\n",
      " 6   start_station_longitude  183412 non-null  float64\n",
      " 7   end_station_id           183215 non-null  float64\n",
      " 8   end_station_name         183215 non-null  object \n",
      " 9   end_station_latitude     183412 non-null  float64\n",
      " 10  end_station_longitude    183412 non-null  float64\n",
      " 11  bike_id                  183412 non-null  int64  \n",
      " 12  user_type                183412 non-null  object \n",
      " 13  member_birth_year        175147 non-null  float64\n",
      " 14  member_gender            175147 non-null  object \n",
      " 15  bike_share_for_all_trip  183412 non-null  object \n",
      "dtypes: float64(7), int64(2), object(7)\n",
      "memory usage: 22.4+ MB\n"
     ]
    }
   ],
   "source": [
    "# Assessing column names, their datatype & number of non-null values per column.\n",
    "df.info()"
   ]
  },
  {
   "cell_type": "code",
   "execution_count": 449,
   "id": "commercial-cambodia",
   "metadata": {},
   "outputs": [
    {
     "data": {
      "text/html": [
       "<div>\n",
       "<style scoped>\n",
       "    .dataframe tbody tr th:only-of-type {\n",
       "        vertical-align: middle;\n",
       "    }\n",
       "\n",
       "    .dataframe tbody tr th {\n",
       "        vertical-align: top;\n",
       "    }\n",
       "\n",
       "    .dataframe thead th {\n",
       "        text-align: right;\n",
       "    }\n",
       "</style>\n",
       "<table border=\"1\" class=\"dataframe\">\n",
       "  <thead>\n",
       "    <tr style=\"text-align: right;\">\n",
       "      <th></th>\n",
       "      <th>duration_sec</th>\n",
       "      <th>start_station_id</th>\n",
       "      <th>start_station_latitude</th>\n",
       "      <th>start_station_longitude</th>\n",
       "      <th>end_station_id</th>\n",
       "      <th>end_station_latitude</th>\n",
       "      <th>end_station_longitude</th>\n",
       "      <th>bike_id</th>\n",
       "      <th>member_birth_year</th>\n",
       "    </tr>\n",
       "  </thead>\n",
       "  <tbody>\n",
       "    <tr>\n",
       "      <th>count</th>\n",
       "      <td>183412.000000</td>\n",
       "      <td>183215.000000</td>\n",
       "      <td>183412.000000</td>\n",
       "      <td>183412.000000</td>\n",
       "      <td>183215.000000</td>\n",
       "      <td>183412.000000</td>\n",
       "      <td>183412.000000</td>\n",
       "      <td>183412.000000</td>\n",
       "      <td>175147.000000</td>\n",
       "    </tr>\n",
       "    <tr>\n",
       "      <th>mean</th>\n",
       "      <td>726.078435</td>\n",
       "      <td>138.590427</td>\n",
       "      <td>37.771223</td>\n",
       "      <td>-122.352664</td>\n",
       "      <td>136.249123</td>\n",
       "      <td>37.771427</td>\n",
       "      <td>-122.352250</td>\n",
       "      <td>4472.906375</td>\n",
       "      <td>1984.806437</td>\n",
       "    </tr>\n",
       "    <tr>\n",
       "      <th>std</th>\n",
       "      <td>1794.389780</td>\n",
       "      <td>111.778864</td>\n",
       "      <td>0.099581</td>\n",
       "      <td>0.117097</td>\n",
       "      <td>111.515131</td>\n",
       "      <td>0.099490</td>\n",
       "      <td>0.116673</td>\n",
       "      <td>1664.383394</td>\n",
       "      <td>10.116689</td>\n",
       "    </tr>\n",
       "    <tr>\n",
       "      <th>min</th>\n",
       "      <td>61.000000</td>\n",
       "      <td>3.000000</td>\n",
       "      <td>37.317298</td>\n",
       "      <td>-122.453704</td>\n",
       "      <td>3.000000</td>\n",
       "      <td>37.317298</td>\n",
       "      <td>-122.453704</td>\n",
       "      <td>11.000000</td>\n",
       "      <td>1878.000000</td>\n",
       "    </tr>\n",
       "    <tr>\n",
       "      <th>25%</th>\n",
       "      <td>325.000000</td>\n",
       "      <td>47.000000</td>\n",
       "      <td>37.770083</td>\n",
       "      <td>-122.412408</td>\n",
       "      <td>44.000000</td>\n",
       "      <td>37.770407</td>\n",
       "      <td>-122.411726</td>\n",
       "      <td>3777.000000</td>\n",
       "      <td>1980.000000</td>\n",
       "    </tr>\n",
       "    <tr>\n",
       "      <th>50%</th>\n",
       "      <td>514.000000</td>\n",
       "      <td>104.000000</td>\n",
       "      <td>37.780760</td>\n",
       "      <td>-122.398285</td>\n",
       "      <td>100.000000</td>\n",
       "      <td>37.781010</td>\n",
       "      <td>-122.398279</td>\n",
       "      <td>4958.000000</td>\n",
       "      <td>1987.000000</td>\n",
       "    </tr>\n",
       "    <tr>\n",
       "      <th>75%</th>\n",
       "      <td>796.000000</td>\n",
       "      <td>239.000000</td>\n",
       "      <td>37.797280</td>\n",
       "      <td>-122.286533</td>\n",
       "      <td>235.000000</td>\n",
       "      <td>37.797320</td>\n",
       "      <td>-122.288045</td>\n",
       "      <td>5502.000000</td>\n",
       "      <td>1992.000000</td>\n",
       "    </tr>\n",
       "    <tr>\n",
       "      <th>max</th>\n",
       "      <td>85444.000000</td>\n",
       "      <td>398.000000</td>\n",
       "      <td>37.880222</td>\n",
       "      <td>-121.874119</td>\n",
       "      <td>398.000000</td>\n",
       "      <td>37.880222</td>\n",
       "      <td>-121.874119</td>\n",
       "      <td>6645.000000</td>\n",
       "      <td>2001.000000</td>\n",
       "    </tr>\n",
       "  </tbody>\n",
       "</table>\n",
       "</div>"
      ],
      "text/plain": [
       "        duration_sec  start_station_id  start_station_latitude  \\\n",
       "count  183412.000000     183215.000000           183412.000000   \n",
       "mean      726.078435        138.590427               37.771223   \n",
       "std      1794.389780        111.778864                0.099581   \n",
       "min        61.000000          3.000000               37.317298   \n",
       "25%       325.000000         47.000000               37.770083   \n",
       "50%       514.000000        104.000000               37.780760   \n",
       "75%       796.000000        239.000000               37.797280   \n",
       "max     85444.000000        398.000000               37.880222   \n",
       "\n",
       "       start_station_longitude  end_station_id  end_station_latitude  \\\n",
       "count            183412.000000   183215.000000         183412.000000   \n",
       "mean               -122.352664      136.249123             37.771427   \n",
       "std                   0.117097      111.515131              0.099490   \n",
       "min                -122.453704        3.000000             37.317298   \n",
       "25%                -122.412408       44.000000             37.770407   \n",
       "50%                -122.398285      100.000000             37.781010   \n",
       "75%                -122.286533      235.000000             37.797320   \n",
       "max                -121.874119      398.000000             37.880222   \n",
       "\n",
       "       end_station_longitude        bike_id  member_birth_year  \n",
       "count          183412.000000  183412.000000      175147.000000  \n",
       "mean             -122.352250    4472.906375        1984.806437  \n",
       "std                 0.116673    1664.383394          10.116689  \n",
       "min              -122.453704      11.000000        1878.000000  \n",
       "25%              -122.411726    3777.000000        1980.000000  \n",
       "50%              -122.398279    4958.000000        1987.000000  \n",
       "75%              -122.288045    5502.000000        1992.000000  \n",
       "max              -121.874119    6645.000000        2001.000000  "
      ]
     },
     "execution_count": 449,
     "metadata": {},
     "output_type": "execute_result"
    }
   ],
   "source": [
    "# Descriptive Statistics of the Dataset\n",
    "df.describe()"
   ]
  },
  {
   "cell_type": "code",
   "execution_count": 450,
   "id": "advanced-tulsa",
   "metadata": {},
   "outputs": [
    {
     "data": {
      "text/plain": [
       "0"
      ]
     },
     "execution_count": 450,
     "metadata": {},
     "output_type": "execute_result"
    }
   ],
   "source": [
    "# Checking for duplicates in the Dataset\n",
    "df.duplicated().sum()"
   ]
  },
  {
   "cell_type": "code",
   "execution_count": 451,
   "id": "severe-motorcycle",
   "metadata": {},
   "outputs": [
    {
     "data": {
      "text/plain": [
       "6"
      ]
     },
     "execution_count": 451,
     "metadata": {},
     "output_type": "execute_result"
    }
   ],
   "source": [
    "df.isna().any().sum()"
   ]
  },
  {
   "cell_type": "code",
   "execution_count": 452,
   "id": "reduced-feelings",
   "metadata": {},
   "outputs": [
    {
     "data": {
      "text/plain": [
       "array([1984.,   nan, 1972., 1989., 1974., 1959., 1983., 1988., 1992.,\n",
       "       1996., 1993., 1990., 1981., 1975., 1978., 1991., 1997., 1986.,\n",
       "       2000., 1982., 1995., 1980., 1973., 1985., 1971., 1979., 1967.,\n",
       "       1998., 1994., 1977., 1999., 1987., 1969., 1963., 1976., 1964.,\n",
       "       1965., 1961., 1968., 1966., 1962., 1954., 1958., 1960., 1970.,\n",
       "       1956., 1957., 1945., 1900., 1952., 1948., 1951., 1941., 1950.,\n",
       "       1949., 1953., 1955., 1946., 1947., 1931., 1943., 1942., 1920.,\n",
       "       1933., 2001., 1878., 1901., 1944., 1928., 1934., 1939., 1930.,\n",
       "       1902., 1910., 1938., 1927.])"
      ]
     },
     "execution_count": 452,
     "metadata": {},
     "output_type": "execute_result"
    }
   ],
   "source": [
    "# Checking for the unique birth year of members\n",
    "df['member_birth_year'].unique()"
   ]
  },
  {
   "cell_type": "markdown",
   "id": "nominated-recommendation",
   "metadata": {},
   "source": [
    "### What is the structure of your dataset?\n",
    "\n",
    ">This dataset contains about 183,412 rows and 16 columns and below are the descriptions for each column.\n",
    "#### Column Description:\n",
    "**`duration_sec`**: contains the trip duration in seconds.\n",
    "<br>**`start_time`** : the start time of the ride.</br>\n",
    "<br>**`end_time`** : the end time of ride.</br>\n",
    "<br>**`start_station_id`** : id to identify the station where the ride started.</br>\n",
    "<br>**`start_station_name`** : name of the start station.</br>\n",
    "<br>**`start_station_latitude`** : latitude of the start station.</br>\n",
    "<br>**`start_station_longitude`** : longitude of the start station.</br>\n",
    "<br>**`end_station_id`** : id to identify the station where the ride ended. </br>\n",
    "<br>**`end_station_name`** : name of the end station.</br>\n",
    "<br>**`end_station_latitude`** : latitude of the end station.</br>\n",
    "<br>**`end_station_longitude`** : longitude of the end station.</br>\n",
    "<br>**`bike_id`** : id to identify each bike.</br>\n",
    "<br>**`user_type`** : shows if the user has subscription or not.</br>\n",
    "<br>**`member_birth_year`** : year of birth of the user.</br>\n",
    "<br>**`member_gender`** : gender of the user.</br>\n",
    "<br>**`bike_share_for_all_trip`**</br>\n",
    "\n",
    "### What is/are the main feature(s) of interest in your dataset?\n",
    "\n",
    "> The main feature of interest in this dataset is the **`duration_sec`**.\n",
    "\n",
    "### What features in the dataset do you think will help support your investigation into your feature(s) of interest?\n",
    "\n",
    "> Some of the user's information such as the **`user_type`**, **`member_gender`** and **`member_birth_year`** will be important for further investigation on the feature of interest."
   ]
  },
  {
   "cell_type": "markdown",
   "id": "decent-banner",
   "metadata": {},
   "source": [
    "#### Quality Issues:\n",
    "<br>1. Convert the **duration_sec** to minutes.</br>\n",
    "<br>2. The **start_time** and **end_time** columns should be in a timestamp format not as an object.</br>\n",
    "<br>3. The day of the week column can be added to the dataset using the **start_time**.</br>\n",
    "<br>4. The hour of the day can be calculated into a new column using the **start_time**.</br>\n",
    "<br>5. The **member_birth_year** contains some null values.</br>\n",
    "<br>6. The datatype of **member_birth_year** is float instead of integer.</br>\n",
    "<br>7. The age of the members can be calculated into a new column using the **member_birth_year**.</br>\n",
    "<br>8. The **member_gender** column contains some null values.</br>\n",
    "<br>9. Convert **bike_id** column to object and **user_type**, **member_gender** and **bike_share_for_all_trip** columns to category datatype.</br>\n",
    "<br>10. The dataset contains some unwanted columns.</br>"
   ]
  },
  {
   "cell_type": "markdown",
   "id": "positive-congress",
   "metadata": {},
   "source": [
    "## Data Cleaning"
   ]
  },
  {
   "cell_type": "code",
   "execution_count": 453,
   "id": "lesbian-merit",
   "metadata": {},
   "outputs": [],
   "source": [
    "# Create a copy of the dataset\n",
    "df_clean = df.copy()"
   ]
  },
  {
   "cell_type": "markdown",
   "id": "scientific-yukon",
   "metadata": {},
   "source": [
    "### Issue #1: Convert duration_sec to minutes"
   ]
  },
  {
   "cell_type": "markdown",
   "id": "emerging-field",
   "metadata": {},
   "source": [
    "#### Define: \n",
    "- The **duration_sec** can be converted to minutes by dividing it by 60. This will be used to create a new column called **duration_min** and it will be converted into an integer."
   ]
  },
  {
   "cell_type": "markdown",
   "id": "proved-invalid",
   "metadata": {},
   "source": [
    "#### Code"
   ]
  },
  {
   "cell_type": "code",
   "execution_count": 454,
   "id": "executive-dispute",
   "metadata": {},
   "outputs": [],
   "source": [
    "df_clean['duration_min']  = df_clean['duration_sec']/60\n",
    "df_clean['duration_min'] = df_clean['duration_min'].astype('int')"
   ]
  },
  {
   "cell_type": "markdown",
   "id": "necessary-volleyball",
   "metadata": {},
   "source": [
    "#### Test"
   ]
  },
  {
   "cell_type": "code",
   "execution_count": 455,
   "id": "surgical-twelve",
   "metadata": {},
   "outputs": [
    {
     "data": {
      "text/html": [
       "<div>\n",
       "<style scoped>\n",
       "    .dataframe tbody tr th:only-of-type {\n",
       "        vertical-align: middle;\n",
       "    }\n",
       "\n",
       "    .dataframe tbody tr th {\n",
       "        vertical-align: top;\n",
       "    }\n",
       "\n",
       "    .dataframe thead th {\n",
       "        text-align: right;\n",
       "    }\n",
       "</style>\n",
       "<table border=\"1\" class=\"dataframe\">\n",
       "  <thead>\n",
       "    <tr style=\"text-align: right;\">\n",
       "      <th></th>\n",
       "      <th>duration_sec</th>\n",
       "      <th>duration_min</th>\n",
       "    </tr>\n",
       "  </thead>\n",
       "  <tbody>\n",
       "    <tr>\n",
       "      <th>0</th>\n",
       "      <td>52185</td>\n",
       "      <td>869</td>\n",
       "    </tr>\n",
       "    <tr>\n",
       "      <th>1</th>\n",
       "      <td>42521</td>\n",
       "      <td>708</td>\n",
       "    </tr>\n",
       "    <tr>\n",
       "      <th>2</th>\n",
       "      <td>61854</td>\n",
       "      <td>1030</td>\n",
       "    </tr>\n",
       "    <tr>\n",
       "      <th>3</th>\n",
       "      <td>36490</td>\n",
       "      <td>608</td>\n",
       "    </tr>\n",
       "    <tr>\n",
       "      <th>4</th>\n",
       "      <td>1585</td>\n",
       "      <td>26</td>\n",
       "    </tr>\n",
       "  </tbody>\n",
       "</table>\n",
       "</div>"
      ],
      "text/plain": [
       "   duration_sec  duration_min\n",
       "0         52185           869\n",
       "1         42521           708\n",
       "2         61854          1030\n",
       "3         36490           608\n",
       "4          1585            26"
      ]
     },
     "execution_count": 455,
     "metadata": {},
     "output_type": "execute_result"
    }
   ],
   "source": [
    "# Checking for the column\n",
    "df_clean[['duration_sec', 'duration_min']].head()"
   ]
  },
  {
   "cell_type": "markdown",
   "id": "supreme-carol",
   "metadata": {},
   "source": [
    "### Issue #2: The *start_time* and *end_time* columns should be in a timestamp format not as an object"
   ]
  },
  {
   "cell_type": "markdown",
   "id": "charitable-estate",
   "metadata": {},
   "source": [
    "#### Define: \n",
    "- The pd.datetime() function of the pandas library is used to convert both columns to datetime."
   ]
  },
  {
   "cell_type": "markdown",
   "id": "mental-evaluation",
   "metadata": {},
   "source": [
    "#### Code"
   ]
  },
  {
   "cell_type": "code",
   "execution_count": 456,
   "id": "proved-excitement",
   "metadata": {},
   "outputs": [],
   "source": [
    "# Converting both columns to a datetime\n",
    "df_clean['start_time'] = pd.to_datetime(df_clean['start_time'])\n",
    "df_clean['end_time'] = pd.to_datetime(df_clean['start_time'])"
   ]
  },
  {
   "cell_type": "markdown",
   "id": "removed-married",
   "metadata": {},
   "source": [
    "#### Test"
   ]
  },
  {
   "cell_type": "code",
   "execution_count": 457,
   "id": "quick-waters",
   "metadata": {},
   "outputs": [
    {
     "data": {
      "text/plain": [
       "start_time    datetime64[ns]\n",
       "end_time      datetime64[ns]\n",
       "dtype: object"
      ]
     },
     "execution_count": 457,
     "metadata": {},
     "output_type": "execute_result"
    }
   ],
   "source": [
    "# Checking for the datatype of both columns\n",
    "df_clean[['start_time', 'end_time']].dtypes"
   ]
  },
  {
   "cell_type": "markdown",
   "id": "deluxe-gossip",
   "metadata": {},
   "source": [
    "### Issue #3: The day of the week column can be added to the dataset using the start_time"
   ]
  },
  {
   "cell_type": "markdown",
   "id": "working-miniature",
   "metadata": {},
   "source": [
    "#### Define:\n",
    "- This can be done using the dt.strftime() function to convert a specified date_format into formatted strings."
   ]
  },
  {
   "cell_type": "markdown",
   "id": "detailed-pierre",
   "metadata": {},
   "source": [
    "#### Code:\n"
   ]
  },
  {
   "cell_type": "code",
   "execution_count": 461,
   "id": "adjustable-mozambique",
   "metadata": {},
   "outputs": [],
   "source": [
    "# Creating a new column using the dt.strftime() on the start_time column\n",
    "df_clean['Day_of_week'] = df_clean['start_time'].dt.strftime('%a')"
   ]
  },
  {
   "cell_type": "markdown",
   "id": "mature-music",
   "metadata": {},
   "source": [
    "#### Test:"
   ]
  },
  {
   "cell_type": "code",
   "execution_count": 462,
   "id": "motivated-headquarters",
   "metadata": {},
   "outputs": [
    {
     "data": {
      "text/plain": [
       "181264    Fri\n",
       "60815     Wed\n",
       "145763    Thu\n",
       "132061    Sat\n",
       "129999    Sat\n",
       "Name: Day_of_week, dtype: object"
      ]
     },
     "execution_count": 462,
     "metadata": {},
     "output_type": "execute_result"
    }
   ],
   "source": [
    "# Checking for random values in the new column\n",
    "df_clean['Day_of_week'].sample(5)"
   ]
  },
  {
   "cell_type": "markdown",
   "id": "hungry-excitement",
   "metadata": {},
   "source": [
    "### Issue #4: The hour of the day can be calculated into a new column using the start_time column"
   ]
  },
  {
   "cell_type": "markdown",
   "id": "optional-administration",
   "metadata": {},
   "source": [
    "#### Define:\n",
    "- The dt.strftime() function will also be used for this."
   ]
  },
  {
   "cell_type": "markdown",
   "id": "informative-channels",
   "metadata": {},
   "source": [
    "#### Code:"
   ]
  },
  {
   "cell_type": "code",
   "execution_count": 463,
   "id": "arabic-nebraska",
   "metadata": {},
   "outputs": [],
   "source": [
    "df_clean['time'] = df_clean['start_time'].dt.strftime('%H')"
   ]
  },
  {
   "cell_type": "markdown",
   "id": "golden-intelligence",
   "metadata": {},
   "source": [
    "#### Test:"
   ]
  },
  {
   "cell_type": "code",
   "execution_count": 464,
   "id": "respected-future",
   "metadata": {},
   "outputs": [
    {
     "data": {
      "text/plain": [
       "77997     21\n",
       "147101    08\n",
       "133298    19\n",
       "76515     08\n",
       "26761     11\n",
       "Name: time, dtype: object"
      ]
     },
     "execution_count": 464,
     "metadata": {},
     "output_type": "execute_result"
    }
   ],
   "source": [
    "# Checking for 5 random samples from the new time column\n",
    "df_clean['time'].sample(5)"
   ]
  },
  {
   "cell_type": "markdown",
   "id": "medical-discipline",
   "metadata": {},
   "source": [
    "### Issue #5: There are null values in the member_birth_year column"
   ]
  },
  {
   "cell_type": "markdown",
   "id": "agreed-acting",
   "metadata": {},
   "source": [
    "#### Define:\n",
    "- The null values in the column will be filled using the fillna() function."
   ]
  },
  {
   "cell_type": "markdown",
   "id": "adopted-collar",
   "metadata": {},
   "source": [
    "#### Code:"
   ]
  },
  {
   "cell_type": "code",
   "execution_count": 465,
   "id": "italic-cookbook",
   "metadata": {},
   "outputs": [],
   "source": [
    "# Fill the missing values with the mean\n",
    "df_clean['member_birth_year'].fillna(df_clean['member_birth_year'].mean(), inplace=True)"
   ]
  },
  {
   "cell_type": "markdown",
   "id": "formal-spread",
   "metadata": {},
   "source": [
    "#### Test:"
   ]
  },
  {
   "cell_type": "code",
   "execution_count": 466,
   "id": "large-characteristic",
   "metadata": {},
   "outputs": [
    {
     "data": {
      "text/plain": [
       "0"
      ]
     },
     "execution_count": 466,
     "metadata": {},
     "output_type": "execute_result"
    }
   ],
   "source": [
    "# Counting the number of null values in the column\n",
    "df_clean['member_birth_year'].isna().sum()"
   ]
  },
  {
   "cell_type": "markdown",
   "id": "together-calculator",
   "metadata": {},
   "source": [
    "### Issue #6: The datatype of *member_birth_year* is float instead of integer."
   ]
  },
  {
   "cell_type": "markdown",
   "id": "minus-savannah",
   "metadata": {},
   "source": [
    "### Define:\n",
    "- The datatype of the column will be converted into an integer using the astype() function."
   ]
  },
  {
   "cell_type": "markdown",
   "id": "noticed-yield",
   "metadata": {},
   "source": [
    "#### Code:"
   ]
  },
  {
   "cell_type": "code",
   "execution_count": 467,
   "id": "naughty-billy",
   "metadata": {},
   "outputs": [],
   "source": [
    "# Convert the datatype of the column to integer\n",
    "df_clean['member_birth_year'] = df_clean['member_birth_year'].astype('int')"
   ]
  },
  {
   "cell_type": "markdown",
   "id": "detailed-teaching",
   "metadata": {},
   "source": [
    "#### Test:"
   ]
  },
  {
   "cell_type": "code",
   "execution_count": 468,
   "id": "worthy-breed",
   "metadata": {},
   "outputs": [
    {
     "data": {
      "text/plain": [
       "dtype('int32')"
      ]
     },
     "execution_count": 468,
     "metadata": {},
     "output_type": "execute_result"
    }
   ],
   "source": [
    "# Checking for the datatype of the column after conversion\n",
    "df_clean['member_birth_year'].dtype"
   ]
  },
  {
   "cell_type": "markdown",
   "id": "seasonal-opposition",
   "metadata": {},
   "source": [
    "### Issue 7: The age of the members can be calculated into a new column using the member_birth_year"
   ]
  },
  {
   "cell_type": "markdown",
   "id": "liquid-easter",
   "metadata": {},
   "source": [
    "#### Define:\n",
    "- This can be done by subtracting the *member_birth_year* from the year which the data was collected (2019)."
   ]
  },
  {
   "cell_type": "markdown",
   "id": "coupled-april",
   "metadata": {},
   "source": [
    "#### Code:"
   ]
  },
  {
   "cell_type": "code",
   "execution_count": 469,
   "id": "invalid-accounting",
   "metadata": {},
   "outputs": [],
   "source": [
    "df_clean['age'] = 2019 - df_clean['member_birth_year']"
   ]
  },
  {
   "cell_type": "markdown",
   "id": "secret-mercy",
   "metadata": {},
   "source": [
    "#### Test:"
   ]
  },
  {
   "cell_type": "code",
   "execution_count": 470,
   "id": "occupied-refund",
   "metadata": {},
   "outputs": [
    {
     "data": {
      "text/plain": [
       "113856    27\n",
       "154354    24\n",
       "108276    35\n",
       "91297     24\n",
       "22824     26\n",
       "Name: age, dtype: int32"
      ]
     },
     "execution_count": 470,
     "metadata": {},
     "output_type": "execute_result"
    }
   ],
   "source": [
    "# Checking for random values from the the new column\n",
    "df_clean['age'].sample(5)"
   ]
  },
  {
   "cell_type": "markdown",
   "id": "decreased-religion",
   "metadata": {},
   "source": [
    "### Issue 8: The *member_gender* column contains some null values."
   ]
  },
  {
   "cell_type": "markdown",
   "id": "resistant-contest",
   "metadata": {},
   "source": [
    "#### Define:\n",
    "- The null values in the column will be dropped."
   ]
  },
  {
   "cell_type": "markdown",
   "id": "sustained-bridges",
   "metadata": {},
   "source": [
    "#### Code:"
   ]
  },
  {
   "cell_type": "code",
   "execution_count": 471,
   "id": "statutory-buffer",
   "metadata": {},
   "outputs": [],
   "source": [
    "df_clean = df_clean.dropna(subset=['member_gender'])"
   ]
  },
  {
   "cell_type": "markdown",
   "id": "twenty-supervision",
   "metadata": {},
   "source": [
    "#### Test:"
   ]
  },
  {
   "cell_type": "code",
   "execution_count": 472,
   "id": "experimental-commitment",
   "metadata": {},
   "outputs": [
    {
     "data": {
      "text/plain": [
       "0"
      ]
     },
     "execution_count": 472,
     "metadata": {},
     "output_type": "execute_result"
    }
   ],
   "source": [
    "df_clean['member_gender'].isna().sum()"
   ]
  },
  {
   "cell_type": "markdown",
   "id": "accepted-framework",
   "metadata": {},
   "source": [
    "### Issue #9: Convert **bike_id** column to object and **user_type**, **member_gender** and **bike_share_for_all_trip** columns to category datatype."
   ]
  },
  {
   "cell_type": "markdown",
   "id": "widespread-dollar",
   "metadata": {},
   "source": [
    "#### Define:\n",
    "- The pandas astype() function will be used to convert these columns"
   ]
  },
  {
   "cell_type": "markdown",
   "id": "checked-worker",
   "metadata": {},
   "source": [
    "#### Code:"
   ]
  },
  {
   "cell_type": "code",
   "execution_count": 473,
   "id": "healthy-yacht",
   "metadata": {},
   "outputs": [],
   "source": [
    "# Converting the datatype of bike_id to object\n",
    "df_clean = df_clean.astype({'bike_id' : 'str'})"
   ]
  },
  {
   "cell_type": "code",
   "execution_count": 474,
   "id": "congressional-sculpture",
   "metadata": {},
   "outputs": [],
   "source": [
    "# Converting the datatype of the user_type, member_type and bike_share_for_all_trip to object\n",
    "df_clean = df_clean.astype({'user_type':'category', 'member_gender':'category', 'bike_share_for_all_trip':'category'})"
   ]
  },
  {
   "cell_type": "markdown",
   "id": "chemical-invitation",
   "metadata": {},
   "source": [
    "#### Test:"
   ]
  },
  {
   "cell_type": "code",
   "execution_count": 475,
   "id": "hydraulic-supervisor",
   "metadata": {},
   "outputs": [
    {
     "data": {
      "text/plain": [
       "bike_id                      object\n",
       "user_type                  category\n",
       "member_gender              category\n",
       "bike_share_for_all_trip    category\n",
       "dtype: object"
      ]
     },
     "execution_count": 475,
     "metadata": {},
     "output_type": "execute_result"
    }
   ],
   "source": [
    "# Checking the datatype of the columns\n",
    "df_clean[['bike_id', 'user_type', 'member_gender', 'bike_share_for_all_trip']].dtypes"
   ]
  },
  {
   "cell_type": "markdown",
   "id": "integral-semester",
   "metadata": {},
   "source": [
    "### Issue #10: The dataset contains some unwanted columns."
   ]
  },
  {
   "cell_type": "markdown",
   "id": "small-reaction",
   "metadata": {},
   "source": [
    "#### Define:\n",
    "- The unwanted columns will be dropped."
   ]
  },
  {
   "cell_type": "markdown",
   "id": "arbitrary-pixel",
   "metadata": {},
   "source": [
    "#### Code:"
   ]
  },
  {
   "cell_type": "code",
   "execution_count": 476,
   "id": "regular-scientist",
   "metadata": {},
   "outputs": [],
   "source": [
    "# Dropping the columns\n",
    "df_clean = df_clean.drop(['duration_sec', 'start_time', 'end_time', \n",
    "                          'start_station_id', 'start_station_name',\n",
    "                          'start_station_longitude', 'start_station_latitude',\n",
    "                          'end_station_id', 'end_station_name', 'end_station_longitude',\n",
    "                          'end_station_latitude', 'member_birth_year'], axis=1)"
   ]
  },
  {
   "cell_type": "markdown",
   "id": "complimentary-secret",
   "metadata": {},
   "source": [
    "#### Test:"
   ]
  },
  {
   "cell_type": "code",
   "execution_count": 477,
   "id": "competent-temple",
   "metadata": {},
   "outputs": [
    {
     "data": {
      "text/plain": [
       "Index(['bike_id', 'user_type', 'member_gender', 'bike_share_for_all_trip',\n",
       "       'duration_min', 'Day_of_week', 'time', 'age'],\n",
       "      dtype='object')"
      ]
     },
     "execution_count": 477,
     "metadata": {},
     "output_type": "execute_result"
    }
   ],
   "source": [
    "# Checking the columns in the dataset\n",
    "df_clean.columns"
   ]
  },
  {
   "cell_type": "code",
   "execution_count": 478,
   "id": "naked-above",
   "metadata": {},
   "outputs": [
    {
     "name": "stdout",
     "output_type": "stream",
     "text": [
      "<class 'pandas.core.frame.DataFrame'>\n",
      "Int64Index: 175147 entries, 0 to 183411\n",
      "Data columns (total 8 columns):\n",
      " #   Column                   Non-Null Count   Dtype   \n",
      "---  ------                   --------------   -----   \n",
      " 0   bike_id                  175147 non-null  object  \n",
      " 1   user_type                175147 non-null  category\n",
      " 2   member_gender            175147 non-null  category\n",
      " 3   bike_share_for_all_trip  175147 non-null  category\n",
      " 4   duration_min             175147 non-null  int32   \n",
      " 5   Day_of_week              175147 non-null  object  \n",
      " 6   time                     175147 non-null  object  \n",
      " 7   age                      175147 non-null  int32   \n",
      "dtypes: category(3), int32(2), object(3)\n",
      "memory usage: 7.2+ MB\n"
     ]
    }
   ],
   "source": [
    "# Checking the information of the new dataset\n",
    "df_clean.info()"
   ]
  },
  {
   "cell_type": "markdown",
   "id": "intended-arizona",
   "metadata": {},
   "source": [
    "## Storing Data\n",
    "The cleaned dataset is saved to a CSV file named \"go_fordbike19_clean.csv\"."
   ]
  },
  {
   "cell_type": "code",
   "execution_count": 479,
   "id": "southwest-software",
   "metadata": {},
   "outputs": [],
   "source": [
    "# Saving and storing the merged data into as a csv\n",
    "df_clean.to_csv(\"go_fordbike19_clean.csv\", index=False)"
   ]
  },
  {
   "cell_type": "markdown",
   "id": "numerical-starter",
   "metadata": {},
   "source": [
    "## Loading the Saved Data\n",
    "The saved dataset is loaded into a dataframe called \"bike_data\""
   ]
  },
  {
   "cell_type": "code",
   "execution_count": 480,
   "id": "owned-carry",
   "metadata": {},
   "outputs": [],
   "source": [
    "# Loading the stored csv file for further exploration\n",
    "bike_data = pd.read_csv('go_fordbike19_clean.csv')"
   ]
  },
  {
   "cell_type": "code",
   "execution_count": 481,
   "id": "faced-think",
   "metadata": {},
   "outputs": [
    {
     "data": {
      "text/html": [
       "<div>\n",
       "<style scoped>\n",
       "    .dataframe tbody tr th:only-of-type {\n",
       "        vertical-align: middle;\n",
       "    }\n",
       "\n",
       "    .dataframe tbody tr th {\n",
       "        vertical-align: top;\n",
       "    }\n",
       "\n",
       "    .dataframe thead th {\n",
       "        text-align: right;\n",
       "    }\n",
       "</style>\n",
       "<table border=\"1\" class=\"dataframe\">\n",
       "  <thead>\n",
       "    <tr style=\"text-align: right;\">\n",
       "      <th></th>\n",
       "      <th>bike_id</th>\n",
       "      <th>user_type</th>\n",
       "      <th>member_gender</th>\n",
       "      <th>bike_share_for_all_trip</th>\n",
       "      <th>duration_min</th>\n",
       "      <th>Day_of_week</th>\n",
       "      <th>time</th>\n",
       "      <th>age</th>\n",
       "    </tr>\n",
       "  </thead>\n",
       "  <tbody>\n",
       "    <tr>\n",
       "      <th>0</th>\n",
       "      <td>4902</td>\n",
       "      <td>Customer</td>\n",
       "      <td>Male</td>\n",
       "      <td>No</td>\n",
       "      <td>869</td>\n",
       "      <td>Thu</td>\n",
       "      <td>17</td>\n",
       "      <td>35</td>\n",
       "    </tr>\n",
       "    <tr>\n",
       "      <th>1</th>\n",
       "      <td>5905</td>\n",
       "      <td>Customer</td>\n",
       "      <td>Male</td>\n",
       "      <td>No</td>\n",
       "      <td>1030</td>\n",
       "      <td>Thu</td>\n",
       "      <td>12</td>\n",
       "      <td>47</td>\n",
       "    </tr>\n",
       "    <tr>\n",
       "      <th>2</th>\n",
       "      <td>6638</td>\n",
       "      <td>Subscriber</td>\n",
       "      <td>Other</td>\n",
       "      <td>No</td>\n",
       "      <td>608</td>\n",
       "      <td>Thu</td>\n",
       "      <td>17</td>\n",
       "      <td>30</td>\n",
       "    </tr>\n",
       "    <tr>\n",
       "      <th>3</th>\n",
       "      <td>4898</td>\n",
       "      <td>Subscriber</td>\n",
       "      <td>Male</td>\n",
       "      <td>Yes</td>\n",
       "      <td>26</td>\n",
       "      <td>Thu</td>\n",
       "      <td>23</td>\n",
       "      <td>45</td>\n",
       "    </tr>\n",
       "    <tr>\n",
       "      <th>4</th>\n",
       "      <td>5200</td>\n",
       "      <td>Subscriber</td>\n",
       "      <td>Male</td>\n",
       "      <td>No</td>\n",
       "      <td>29</td>\n",
       "      <td>Thu</td>\n",
       "      <td>23</td>\n",
       "      <td>60</td>\n",
       "    </tr>\n",
       "  </tbody>\n",
       "</table>\n",
       "</div>"
      ],
      "text/plain": [
       "   bike_id   user_type member_gender bike_share_for_all_trip  duration_min  \\\n",
       "0     4902    Customer          Male                      No           869   \n",
       "1     5905    Customer          Male                      No          1030   \n",
       "2     6638  Subscriber         Other                      No           608   \n",
       "3     4898  Subscriber          Male                     Yes            26   \n",
       "4     5200  Subscriber          Male                      No            29   \n",
       "\n",
       "  Day_of_week  time  age  \n",
       "0         Thu    17   35  \n",
       "1         Thu    12   47  \n",
       "2         Thu    17   30  \n",
       "3         Thu    23   45  \n",
       "4         Thu    23   60  "
      ]
     },
     "execution_count": 481,
     "metadata": {},
     "output_type": "execute_result"
    }
   ],
   "source": [
    "# Checking the first five rows of the dataset\n",
    "bike_data.head()"
   ]
  },
  {
   "cell_type": "code",
   "execution_count": 482,
   "id": "legislative-survival",
   "metadata": {},
   "outputs": [
    {
     "name": "stdout",
     "output_type": "stream",
     "text": [
      "<class 'pandas.core.frame.DataFrame'>\n",
      "RangeIndex: 175147 entries, 0 to 175146\n",
      "Data columns (total 8 columns):\n",
      " #   Column                   Non-Null Count   Dtype \n",
      "---  ------                   --------------   ----- \n",
      " 0   bike_id                  175147 non-null  int64 \n",
      " 1   user_type                175147 non-null  object\n",
      " 2   member_gender            175147 non-null  object\n",
      " 3   bike_share_for_all_trip  175147 non-null  object\n",
      " 4   duration_min             175147 non-null  int64 \n",
      " 5   Day_of_week              175147 non-null  object\n",
      " 6   time                     175147 non-null  int64 \n",
      " 7   age                      175147 non-null  int64 \n",
      "dtypes: int64(4), object(4)\n",
      "memory usage: 10.7+ MB\n"
     ]
    }
   ],
   "source": [
    "# Checking for the column information\n",
    "bike_data.info()"
   ]
  },
  {
   "cell_type": "markdown",
   "id": "first-victoria",
   "metadata": {},
   "source": [
    "## Univariate Exploration\n",
    "> **In this section, we'll investigate distributions of individual variables.**"
   ]
  },
  {
   "cell_type": "markdown",
   "id": "flexible-right",
   "metadata": {},
   "source": [
    "### Question 1: What age group had the highest number of trips taken?"
   ]
  },
  {
   "cell_type": "code",
   "execution_count": 483,
   "id": "bacterial-police",
   "metadata": {},
   "outputs": [
    {
     "data": {
      "text/plain": [
       "count    175147.000000\n",
       "mean         34.193563\n",
       "std          10.116689\n",
       "min          18.000000\n",
       "25%          27.000000\n",
       "50%          32.000000\n",
       "75%          39.000000\n",
       "max         141.000000\n",
       "Name: age, dtype: float64"
      ]
     },
     "execution_count": 483,
     "metadata": {},
     "output_type": "execute_result"
    }
   ],
   "source": [
    "bike_data['age'].describe()"
   ]
  },
  {
   "cell_type": "code",
   "execution_count": 484,
   "id": "criminal-bumper",
   "metadata": {},
   "outputs": [
    {
     "data": {
      "text/plain": [
       "count    173333.000000\n",
       "mean         33.802005\n",
       "std           9.342947\n",
       "min          18.000000\n",
       "25%          27.000000\n",
       "50%          32.000000\n",
       "75%          39.000000\n",
       "max          63.000000\n",
       "Name: age, dtype: float64"
      ]
     },
     "execution_count": 484,
     "metadata": {},
     "output_type": "execute_result"
    }
   ],
   "source": [
    "rider_age = bike_data.query('age < age.quantile(0.99)')\n",
    "rider_age['age'].describe()"
   ]
  },
  {
   "cell_type": "markdown",
   "id": "specialized-laptop",
   "metadata": {},
   "source": [
    "- The youngest rider was 18 years old.\n",
    "- It can be observed that 75% of the riders were below the age of 39.\n",
    "- Further investigation shows that 99% of the riders were below the age of 63.\n",
    "- So there is presence of outliers in the age column."
   ]
  },
  {
   "cell_type": "markdown",
   "id": "meaningful-court",
   "metadata": {},
   "source": [
    "#### Visualization"
   ]
  },
  {
   "cell_type": "code",
   "execution_count": 485,
   "id": "standing-ultimate",
   "metadata": {},
   "outputs": [
    {
     "data": {
      "image/png": "[encoded data removed]",
      "text/plain": [
       "<Figure size 576x432 with 1 Axes>"
      ]
     },
     "metadata": {
      "needs_background": "light"
     },
     "output_type": "display_data"
    }
   ],
   "source": [
    "# Setting the bins\n",
    "bins = np.arange(18, bike_data['age'].max()+2, 2)\n",
    "\n",
    "# Setting the size of the figure\n",
    "plt.figure(figsize=[8, 6])\n",
    "\n",
    "# Plotting the histogram\n",
    "plt.hist(data=bike_data, x = 'age', bins=bins)\n",
    "plt.xlim((15,65))\n",
    "plt.xlabel('Age (Years)')\n",
    "plt.ylabel('Total Number of Trips Taken')\n",
    "plt.title('Age Distribution of Members', fontsize = 18);"
   ]
  },
  {
   "cell_type": "markdown",
   "id": "technical-intake",
   "metadata": {},
   "source": [
    "#### Observation:\n",
    "- Members between the age bracket of 25 and 40 had the highest number of trips taken."
   ]
  },
  {
   "cell_type": "markdown",
   "id": "changing-emperor",
   "metadata": {},
   "source": [
    "### Question 2: Which gender takes more of the bike trips?"
   ]
  },
  {
   "cell_type": "code",
   "execution_count": 486,
   "id": "independent-principal",
   "metadata": {},
   "outputs": [
    {
     "data": {
      "text/plain": [
       "Male      130651\n",
       "Female     40844\n",
       "Other       3652\n",
       "Name: member_gender, dtype: int64"
      ]
     },
     "execution_count": 486,
     "metadata": {},
     "output_type": "execute_result"
    }
   ],
   "source": [
    "# Counting the number of rides by gender\n",
    "gender_count = bike_data['member_gender'].value_counts()\n",
    "gender_count"
   ]
  },
  {
   "cell_type": "markdown",
   "id": "suited-multiple",
   "metadata": {},
   "source": [
    "#### Visualization"
   ]
  },
  {
   "cell_type": "code",
   "execution_count": 488,
   "id": "central-bishop",
   "metadata": {},
   "outputs": [
    {
     "data": {
      "image/png": "[encoded data removed]",
      "text/plain": [
       "<Figure size 864x576 with 1 Axes>"
      ]
     },
     "metadata": {},
     "output_type": "display_data"
    }
   ],
   "source": [
    "# Setting the size of the figure\n",
    "plt.figure(figsize=[12, 8])\n",
    "\n",
    "# Plotting the Pie Chart showing the distribution of trips taken by Gender\n",
    "plt.pie(gender_count, labels = gender_count.index, startangle = 90,\n",
    "       autopct= '%1.1f%%', counterclock = False, textprops={'color':'white', 'size':15})\n",
    "plt.legend(loc='upper right', fontsize = 15)\n",
    "plt.title('Distribution of Trips Taken by Gender', fontsize = 18);"
   ]
  },
  {
   "cell_type": "markdown",
   "id": "invalid-behavior",
   "metadata": {},
   "source": [
    "### Observation:\n",
    "- Men have the highest number of bike trips taken with about 75% of the total trips."
   ]
  },
  {
   "cell_type": "markdown",
   "id": "middle-shock",
   "metadata": {},
   "source": [
    "### Question 3: What proportion of the users take bike trip the most?"
   ]
  },
  {
   "cell_type": "code",
   "execution_count": 489,
   "id": "hollow-spray",
   "metadata": {},
   "outputs": [],
   "source": [
    "# Counting the unique values in the user_type column\n",
    "user_count = bike_data['user_type'].value_counts()\n",
    "\n",
    "# Calculating the total number of user\n",
    "total_user = bike_data['user_type'].value_counts().sum()\n",
    "\n",
    "# Getting the category with highest frequency\n",
    "max_count = user_count[0]\n",
    "\n",
    "# Computing the length of the longest bar in terms of proportion\n",
    "max_prop = max_count/total_user"
   ]
  },
  {
   "cell_type": "markdown",
   "id": "grateful-carol",
   "metadata": {},
   "source": [
    "#### Visualization"
   ]
  },
  {
   "cell_type": "code",
   "execution_count": 518,
   "id": "coated-polyester",
   "metadata": {},
   "outputs": [
    {
     "data": {
      "image/png": "[encoded data removed]",
      "text/plain": [
       "<Figure size 576x432 with 1 Axes>"
      ]
     },
     "metadata": {
      "needs_background": "light"
     },
     "output_type": "display_data"
    }
   ],
   "source": [
    "# Creating an array of evenly spaced proportional values\n",
    "tick_props = np.arange(0, max_prop, 0.2)\n",
    "\n",
    "# Setting the ticknames\n",
    "tick_names = ['{:0.2f}'.format(x) for x in tick_props]\n",
    "\n",
    "# Setting the color\n",
    "base_color = sb.color_palette()[0]\n",
    "\n",
    "# Setting the size of the figure\n",
    "plt.figure(figsize=[8,6])\n",
    "\n",
    "# Plotting the bar Chart\n",
    "sb.countplot(data=bike_data, x='user_type', color=base_color)\n",
    "plt.yticks(tick_props * total_user, tick_names)\n",
    "plt.title('Total Number of Riders by User Types', fontsize=16)\n",
    "plt.xlabel('User Type', fontsize = 12)\n",
    "plt.ylabel('Proportion of Riders', fontsize = 12);"
   ]
  },
  {
   "cell_type": "markdown",
   "id": "beginning-smile",
   "metadata": {},
   "source": [
    "### Observation:\n",
    "- The subscribers are the the users with the most number of trips taken contributing about 90% of the total trips."
   ]
  },
  {
   "cell_type": "markdown",
   "id": "judicial-adoption",
   "metadata": {},
   "source": [
    "### Question 4: What hour of the day records the highest number of rides?"
   ]
  },
  {
   "cell_type": "code",
   "execution_count": 491,
   "id": "charged-pension",
   "metadata": {},
   "outputs": [
    {
     "data": {
      "text/plain": [
       "Int64Index([ 0,  1,  2,  3,  4,  5,  6,  7,  8,  9, 10, 11, 12, 13, 14, 15, 16,\n",
       "            17, 18, 19, 20, 21, 22, 23],\n",
       "           dtype='int64')"
      ]
     },
     "execution_count": 491,
     "metadata": {},
     "output_type": "execute_result"
    }
   ],
   "source": [
    "# Ordering the time column \n",
    "hour_order = bike_data['time'].value_counts().index.sort_values()\n",
    "hour_order"
   ]
  },
  {
   "cell_type": "markdown",
   "id": "expressed-canyon",
   "metadata": {},
   "source": [
    "### Visualization"
   ]
  },
  {
   "cell_type": "code",
   "execution_count": 492,
   "id": "phantom-railway",
   "metadata": {},
   "outputs": [
    {
     "data": {
      "image/png": "[encoded data removed]",
      "text/plain": [
       "<Figure size 864x576 with 1 Axes>"
      ]
     },
     "metadata": {
      "needs_background": "light"
     },
     "output_type": "display_data"
    }
   ],
   "source": [
    "# Setting the size of the figure\n",
    "plt.figure(figsize=[12,8])\n",
    "\n",
    "# Plotting the bar chart with seaborn\n",
    "sb.countplot(data = bike_data, x = 'time', color = base_color, order = hour_order)\n",
    "plt.xlabel('Hour of the day', fontsize = 12)\n",
    "plt.title('Total Number of Rides per Hour', fontsize = 18);"
   ]
  },
  {
   "cell_type": "markdown",
   "id": "raising-radar",
   "metadata": {},
   "source": [
    "### Observation:\n",
    "- It can be observed that the distribution is bi-modal.\n",
    "- **8AM** and **5PM** are the two hours where most of the rides occur."
   ]
  },
  {
   "cell_type": "markdown",
   "id": "equivalent-avenue",
   "metadata": {},
   "source": [
    "### Question 5: Which day of the week has the highest number of trips?"
   ]
  },
  {
   "cell_type": "markdown",
   "id": "differential-muscle",
   "metadata": {},
   "source": [
    "### Visualization"
   ]
  },
  {
   "cell_type": "code",
   "execution_count": 494,
   "id": "employed-earthquake",
   "metadata": {},
   "outputs": [
    {
     "data": {
      "image/png": "[encoded data removed]",
      "text/plain": [
       "<Figure size 864x576 with 1 Axes>"
      ]
     },
     "metadata": {
      "needs_background": "light"
     },
     "output_type": "display_data"
    }
   ],
   "source": [
    "# Ordering the days of the week\n",
    "day_order = ['Mon', 'Tue', 'Wed', 'Thu', 'Fri', 'Sat', 'Sun']\n",
    "\n",
    "# Setting the size of the figure\n",
    "plt.figure(figsize=[12,8])\n",
    "\n",
    "# Plotting the bar chart with seaborn\n",
    "sb.countplot(data = bike_data, x = 'Day_of_week', color = base_color, order = day_order)\n",
    "plt.xlabel('Days of the Week', fontsize = 12)\n",
    "plt.title('Total Number of Rides by Days of the Week', fontsize = 18);"
   ]
  },
  {
   "cell_type": "markdown",
   "id": "threaded-account",
   "metadata": {},
   "source": [
    "### Observation:\n",
    "- **Thursday** is the day with the highest number of trips.\n",
    "- Saturday and Sunday have the lowest number of trips."
   ]
  },
  {
   "cell_type": "markdown",
   "id": "familiar-transmission",
   "metadata": {},
   "source": [
    "### Question 6: What is the duration(mins) of the highest number of trips?"
   ]
  },
  {
   "cell_type": "code",
   "execution_count": 495,
   "id": "worst-direction",
   "metadata": {},
   "outputs": [
    {
     "data": {
      "text/plain": [
       "count    175147.000000\n",
       "mean         11.244971\n",
       "std          27.361348\n",
       "min           1.000000\n",
       "25%           5.000000\n",
       "50%           8.000000\n",
       "75%          13.000000\n",
       "max        1409.000000\n",
       "Name: duration_min, dtype: float64"
      ]
     },
     "execution_count": 495,
     "metadata": {},
     "output_type": "execute_result"
    }
   ],
   "source": [
    "# Descriptive statistics of the duration_min\n",
    "bike_data['duration_min'].describe()"
   ]
  },
  {
   "cell_type": "code",
   "execution_count": 496,
   "id": "personal-construction",
   "metadata": {},
   "outputs": [
    {
     "data": {
      "text/plain": [
       "count    173332.00000\n",
       "mean          9.70808\n",
       "std           7.06222\n",
       "min           1.00000\n",
       "25%           5.00000\n",
       "50%           8.00000\n",
       "75%          12.00000\n",
       "max          51.00000\n",
       "Name: duration_min, dtype: float64"
      ]
     },
     "execution_count": 496,
     "metadata": {},
     "output_type": "execute_result"
    }
   ],
   "source": [
    "# Checking for the distribution of 99 percent of duration minutes\n",
    "duration = bike_data.query('duration_min < duration_min.quantile(0.99)')\n",
    "duration['duration_min'].describe()"
   ]
  },
  {
   "cell_type": "markdown",
   "id": "veterinary-boards",
   "metadata": {},
   "source": [
    "### Visualization"
   ]
  },
  {
   "cell_type": "code",
   "execution_count": 497,
   "id": "divided-shock",
   "metadata": {},
   "outputs": [
    {
     "data": {
      "image/png": "[encoded data removed]",
      "text/plain": [
       "<Figure size 576x432 with 1 Axes>"
      ]
     },
     "metadata": {
      "needs_background": "light"
     },
     "output_type": "display_data"
    }
   ],
   "source": [
    "bins = np.arange(1,53+1,1)\n",
    "plt.figure(figsize=[8, 6])\n",
    "plt.hist(data=bike_data, x='duration_min',bins=bins, rwidth=0.7)\n",
    "plt.xlabel('Duration (min)')\n",
    "plt.ylabel('Number of Trips Taken')\n",
    "plt.title(\"Distribution of Bike Trip Durations (mins)\");"
   ]
  },
  {
   "cell_type": "markdown",
   "id": "early-beads",
   "metadata": {},
   "source": [
    "### Observation:\n",
    "- The modal duration for most bike trips is between **5** to **12.5** minutes."
   ]
  },
  {
   "cell_type": "markdown",
   "id": "reserved-morrison",
   "metadata": {},
   "source": [
    "### Discuss the distribution(s) of your variable(s) of interest. Were there any unusual points? Did you need to perform any transformations?\n",
    "\n",
    "> <br>1. The age of riders and duration of trip taken were quite interesting to explore.</br> \n",
    "> <br>2. They both contained outliers.</br>\n",
    "> <br> 3. The hour of the day the the higest number of rides were 8AM and 5PM. The former could be assumed to be the resumption time for rider at their workplac while the later is the closing time.\n",
    "\n",
    "### Of the features you investigated, were there any unusual distributions? Did you perform any operations on the data to tidy, adjust, or change the form of the data? If so, why did you do this?\n",
    "\n",
    "> To tidy up these outliers, the age and duration of trips that captures 99% of the users were used the for investigation.\n",
    "> This was done by using the summary statistics of both variables to map out the needed data and to eliminate the extreme outliers."
   ]
  },
  {
   "cell_type": "markdown",
   "id": "harmful-anatomy",
   "metadata": {},
   "source": [
    "## Bivariate Exploration\n",
    "> **In this section, we'll investigate how the variation of one variable will affect another one.**"
   ]
  },
  {
   "cell_type": "markdown",
   "id": "adjacent-speech",
   "metadata": {},
   "source": [
    "### Question 1: How is the usage of bike by Users on Days of the Week?"
   ]
  },
  {
   "cell_type": "markdown",
   "id": "julian-twelve",
   "metadata": {},
   "source": [
    "### Visualization"
   ]
  },
  {
   "cell_type": "code",
   "execution_count": 502,
   "id": "fatty-graham",
   "metadata": {},
   "outputs": [
    {
     "data": {
      "image/png": "[encoded data removed]",
      "text/plain": [
       "<Figure size 720x360 with 2 Axes>"
      ]
     },
     "metadata": {
      "needs_background": "light"
     },
     "output_type": "display_data"
    }
   ],
   "source": [
    "# Setting the order of the weekdays\n",
    "day_order = ['Mon','Tue','Wed','Thu','Fri','Sat','Sun']\n",
    "\n",
    "# Plotting the chart\n",
    "day_plot = sb.catplot(data = bike_data, x = 'Day_of_week', col = 'user_type', color = base_color,\n",
    "                       order = day_order, sharey = False, kind ='count')\n",
    "\n",
    "day_plot.set_axis_labels('Day of the Week','Total Number of Trips Taken')\n",
    "day_plot.set_titles(\"{col_name}\")\n",
    "\n",
    "plt.suptitle('Number of Daily Trips Taken (Customers vs Subscribers)', y=1.08, fontsize=15);"
   ]
  },
  {
   "cell_type": "markdown",
   "id": "demonstrated-applicant",
   "metadata": {},
   "source": [
    "### Observation:\n",
    "- It can be Observed that Thursday has the highest usage of bike by both the Customers and Subscribers.\n",
    "- Subscribers completed more rides than subscribers everyday."
   ]
  },
  {
   "cell_type": "markdown",
   "id": "anonymous-locator",
   "metadata": {},
   "source": [
    "### Question 2: What is the relationship between the age of users and the duration of trips taken?"
   ]
  },
  {
   "cell_type": "markdown",
   "id": "warming-angel",
   "metadata": {},
   "source": [
    "### Visualization"
   ]
  },
  {
   "cell_type": "code",
   "execution_count": 503,
   "id": "drawn-conviction",
   "metadata": {},
   "outputs": [
    {
     "data": {
      "image/png": "[encoded data removed]",
      "text/plain": [
       "<Figure size 576x432 with 1 Axes>"
      ]
     },
     "metadata": {
      "needs_background": "light"
     },
     "output_type": "display_data"
    }
   ],
   "source": [
    "# Setting figure size\n",
    "plt.figure(figsize=(8, 6))\n",
    "\n",
    "# Plotting the scatterplot\n",
    "sb.regplot(data = bike_data, x = 'age', y = 'duration_min', fit_reg =False,\n",
    "           truncate = False, x_jitter = 0.3, scatter_kws = {'alpha':0.3})\n",
    "plt.xlabel('Age of Users')\n",
    "plt.ylabel('Duration of trips')\n",
    "plt.title('Duration of Trips by Age of Users', fontsize = 18);"
   ]
  },
  {
   "cell_type": "markdown",
   "id": "offshore-omaha",
   "metadata": {},
   "source": [
    "### Observation:\n",
    "- Irrespective of the age of users, most of the trips are below 200 minutes. Trips with durations higher than 200 minutes are only found among members between the ages of 18 and 60 years."
   ]
  },
  {
   "cell_type": "markdown",
   "id": "analyzed-aquarium",
   "metadata": {},
   "source": [
    "### Question 3: What is the average ride time(minutes) per day?"
   ]
  },
  {
   "cell_type": "markdown",
   "id": "optimum-voice",
   "metadata": {},
   "source": [
    "### Visualization"
   ]
  },
  {
   "cell_type": "code",
   "execution_count": 504,
   "id": "driven-passenger",
   "metadata": {},
   "outputs": [
    {
     "data": {
      "image/png": "[encoded data removed]",
      "text/plain": [
       "<Figure size 864x504 with 1 Axes>"
      ]
     },
     "metadata": {
      "needs_background": "light"
     },
     "output_type": "display_data"
    }
   ],
   "source": [
    "# Setting the figure size\n",
    "plt.figure(figsize = (12, 7))\n",
    "\n",
    "# Plotting the chart\n",
    "sb.pointplot(data = bike_data, x = 'Day_of_week', y = 'duration_min', order=day_order)\n",
    "plt.title('Average Ride Time Per Day', fontsize = 18);\n",
    "plt.ylabel('Average Ride time (Minutes)');\n",
    "plt.xlabel('Days of the Week');"
   ]
  },
  {
   "cell_type": "markdown",
   "id": "characteristic-trade",
   "metadata": {},
   "source": [
    "### Observation:\n",
    "- It was observed that weekends (Saturdays and Sundays) have the highest average ride per day."
   ]
  },
  {
   "cell_type": "markdown",
   "id": "pleased-wrist",
   "metadata": {},
   "source": [
    "### Question 4: What is the average ride time(minutes) for different genders?"
   ]
  },
  {
   "cell_type": "code",
   "execution_count": 505,
   "id": "rental-oliver",
   "metadata": {},
   "outputs": [
    {
     "data": {
      "text/plain": [
       "member_gender\n",
       "Female    12.491284\n",
       "Male      10.719061\n",
       "Other     16.120756\n",
       "Name: duration_min, dtype: float64"
      ]
     },
     "execution_count": 505,
     "metadata": {},
     "output_type": "execute_result"
    }
   ],
   "source": [
    "# Calculating the average ride time by gender\n",
    "bike_data.groupby('member_gender')['duration_min'].mean()"
   ]
  },
  {
   "cell_type": "markdown",
   "id": "restricted-christopher",
   "metadata": {},
   "source": [
    "### Visualization"
   ]
  },
  {
   "cell_type": "code",
   "execution_count": 506,
   "id": "eastern-necessity",
   "metadata": {},
   "outputs": [
    {
     "data": {
      "image/png": "[encoded data removed]",
      "text/plain": [
       "<Figure size 576x432 with 1 Axes>"
      ]
     },
     "metadata": {
      "needs_background": "light"
     },
     "output_type": "display_data"
    }
   ],
   "source": [
    "# Setting the figure size\n",
    "plt.figure(figsize = (8,6))\n",
    "\n",
    "# Plotting the barplot\n",
    "sb.barplot(data=bike_data, x='member_gender', y='duration_min',color= base_color)\n",
    "plt.xlabel('Gender')\n",
    "plt.ylabel('Average Ride time (Minutes)')\n",
    "plt.title('Average Ride Time by Gender');"
   ]
  },
  {
   "cell_type": "markdown",
   "id": "handled-playback",
   "metadata": {},
   "source": [
    "### Observation: \n",
    "- The Other gender has the highest average ride time with 16.1 minutes.\n",
    "- Females with an average ride time of 12.5 minutes while the males averaged 10.7 minutes."
   ]
  },
  {
   "cell_type": "markdown",
   "id": "global-joseph",
   "metadata": {},
   "source": [
    "### Question 5: What is the average ride time(minutes) for Users?"
   ]
  },
  {
   "cell_type": "code",
   "execution_count": 507,
   "id": "earned-faculty",
   "metadata": {},
   "outputs": [
    {
     "data": {
      "text/plain": [
       "user_type\n",
       "Customer      21.340148\n",
       "Subscriber    10.185817\n",
       "Name: duration_min, dtype: float64"
      ]
     },
     "execution_count": 507,
     "metadata": {},
     "output_type": "execute_result"
    }
   ],
   "source": [
    "bike_data.groupby('user_type')['duration_min'].mean(())"
   ]
  },
  {
   "cell_type": "markdown",
   "id": "future-condition",
   "metadata": {},
   "source": [
    "### Visualization"
   ]
  },
  {
   "cell_type": "code",
   "execution_count": 508,
   "id": "boxed-walnut",
   "metadata": {},
   "outputs": [
    {
     "data": {
      "image/png": "[encoded data removed]",
      "text/plain": [
       "<Figure size 576x432 with 1 Axes>"
      ]
     },
     "metadata": {
      "needs_background": "light"
     },
     "output_type": "display_data"
    }
   ],
   "source": [
    "# Setting the figure size\n",
    "plt.figure(figsize = (8,6))\n",
    "\n",
    "# Plotting the barplot\n",
    "sb.barplot(data=bike_data, x='user_type', y='duration_min',color= base_color)\n",
    "plt.xlabel('User Type')\n",
    "plt.ylabel('Average Ride time (Minutes)')\n",
    "plt.title('Average Ride Time by User type');"
   ]
  },
  {
   "cell_type": "markdown",
   "id": "monetary-samoa",
   "metadata": {},
   "source": [
    "### Observations:\n",
    "- Customers have an average ride time of 21 minutes while the subscribers averaged 10 minutes."
   ]
  },
  {
   "cell_type": "markdown",
   "id": "choice-monster",
   "metadata": {},
   "source": [
    "### Question 6: What is the average ride time(minutes) for users that shared their bike for trips?"
   ]
  },
  {
   "cell_type": "code",
   "execution_count": 509,
   "id": "detailed-diagram",
   "metadata": {},
   "outputs": [
    {
     "data": {
      "text/plain": [
       "bike_share_for_all_trip\n",
       "No     11.281726\n",
       "Yes    10.910882\n",
       "Name: duration_min, dtype: float64"
      ]
     },
     "execution_count": 509,
     "metadata": {},
     "output_type": "execute_result"
    }
   ],
   "source": [
    "bike_data.groupby('bike_share_for_all_trip')['duration_min'].mean()"
   ]
  },
  {
   "cell_type": "markdown",
   "id": "smoking-alert",
   "metadata": {},
   "source": [
    "### Visualization"
   ]
  },
  {
   "cell_type": "code",
   "execution_count": 510,
   "id": "driving-alias",
   "metadata": {},
   "outputs": [
    {
     "data": {
      "image/png": "[encoded data removed]",
      "text/plain": [
       "<Figure size 576x432 with 1 Axes>"
      ]
     },
     "metadata": {
      "needs_background": "light"
     },
     "output_type": "display_data"
    }
   ],
   "source": [
    "# Setting the figure size\n",
    "plt.figure(figsize = (8,6))\n",
    "\n",
    "# Plotting the barplot\n",
    "sb.barplot(data=bike_data, x='bike_share_for_all_trip', y='duration_min',color= base_color)\n",
    "plt.xlabel('Bike Share For Trips')\n",
    "plt.ylabel('Average Ride time (Minutes)')\n",
    "plt.title('Average Ride Time by Bike Sharing');"
   ]
  },
  {
   "cell_type": "markdown",
   "id": "double-phoenix",
   "metadata": {},
   "source": [
    "### Observation:\n",
    "- Those that didn't share bike had an average ride time of 11.9 minutes while others averaged about 11 minutes."
   ]
  },
  {
   "cell_type": "markdown",
   "id": "promising-cancellation",
   "metadata": {},
   "source": [
    "### Discuss the distribution(s) of your variable(s) of interest. Were there any unusual points? Did you need to perform any transformations?\n",
    "\n",
    "><br> 1. The duration of rides was explored in respect to other variables such as user types, member gender, days of the week and even the age of riders.</br>\n",
    "><br>2. Weekends generally had an higher average ride time than the weekdays.</br> \n",
    "><br>3. But has the highest number trips taken were on Thursdays for both customers and subscribers. </br>\n",
    "><br>4. Customers had an higher average ride time than subscribers.</br>\n",
    "><br>5. No unusual points were noticed.</br>\n",
    "\n",
    "### Of the features you investigated, were there any unusual distributions? Did you perform any operations on the data to tidy, adjust, or change the form of the data? If so, why did you do this?\n",
    "\n",
    "> The total number of trip taken for customers were relatively low compared to Subscribers."
   ]
  },
  {
   "cell_type": "markdown",
   "id": "technological-attempt",
   "metadata": {},
   "source": [
    "## Multiivariate Exploration\n",
    "> **In this section, we'll investigate how the variation of two or more variables and how they affect one another.**"
   ]
  },
  {
   "cell_type": "markdown",
   "id": "legitimate-congo",
   "metadata": {},
   "source": [
    "### Question 1: What is the average ride time(minutes) of users per day?"
   ]
  },
  {
   "cell_type": "markdown",
   "id": "municipal-finger",
   "metadata": {},
   "source": [
    "### Visualization"
   ]
  },
  {
   "cell_type": "code",
   "execution_count": 511,
   "id": "athletic-starter",
   "metadata": {},
   "outputs": [
    {
     "data": {
      "image/png": "[encoded data removed]",
      "text/plain": [
       "<Figure size 864x432 with 1 Axes>"
      ]
     },
     "metadata": {
      "needs_background": "light"
     },
     "output_type": "display_data"
    }
   ],
   "source": [
    "# Setting the figure size\n",
    "plt.figure(figsize=(12,6))\n",
    "\n",
    "# plotting the pointplot\n",
    "sb.pointplot(data=bike_data, x='Day_of_week', y='duration_min', order=day_order, hue = \"user_type\", ci=None)\n",
    "plt.xlabel('Days of the Week')\n",
    "plt.ylabel('Average Ride Time (Minutes)')\n",
    "plt.title(\"Average Ride Time per Day for Each User Type\", fontsize = 18);"
   ]
  },
  {
   "cell_type": "markdown",
   "id": "explicit-credits",
   "metadata": {},
   "source": [
    "### Observation\n",
    "- Genrally, Customers have a higher average ride time compared to Subscribers. It can be observed that both customers and subscribers have higher average ride time on Weekends (Saturdays and Sundays)."
   ]
  },
  {
   "cell_type": "markdown",
   "id": "automotive-relations",
   "metadata": {},
   "source": [
    "### Question 2: What is the users total number of trips by gender?"
   ]
  },
  {
   "cell_type": "markdown",
   "id": "opened-secret",
   "metadata": {},
   "source": [
    "### Visualization"
   ]
  },
  {
   "cell_type": "code",
   "execution_count": 512,
   "id": "starting-pricing",
   "metadata": {},
   "outputs": [
    {
     "data": {
      "image/png": "[encoded data removed]",
      "text/plain": [
       "<Figure size 864x432 with 1 Axes>"
      ]
     },
     "metadata": {
      "needs_background": "light"
     },
     "output_type": "display_data"
    }
   ],
   "source": [
    "# Counting the number of trips taken by users\n",
    "user_count_order = bike_data['user_type'].value_counts().index\n",
    "\n",
    "# Setting the figure size\n",
    "plt.figure(figsize = (12,6))\n",
    "\n",
    "# Plotting the bars\n",
    "user_plot = sb.countplot(data = bike_data, x = 'user_type', hue = 'member_gender', order = user_count_order )\n",
    "# Setting the plot axis labels\n",
    "user_plot.set_xlabel('User Type', fontsize = 14)\n",
    "user_plot.set_ylabel('Total Number of Trips Taken', fontsize = 14)\n",
    "\n",
    "# Setting the plot title\n",
    "plt.suptitle('Total Number of User Trips by Gender', fontsize=18);"
   ]
  },
  {
   "cell_type": "markdown",
   "id": "experienced-brown",
   "metadata": {},
   "source": [
    "### Observation:\n",
    "- For both the Subscriber and Customer user type, the Male riders had the highest number of trips taken."
   ]
  },
  {
   "cell_type": "markdown",
   "id": "industrial-accordance",
   "metadata": {},
   "source": [
    "### Question 3: What is the hourly duration of rides by different user type?"
   ]
  },
  {
   "cell_type": "markdown",
   "id": "serious-province",
   "metadata": {},
   "source": [
    "### Visualization"
   ]
  },
  {
   "cell_type": "code",
   "execution_count": 513,
   "id": "flush-president",
   "metadata": {},
   "outputs": [
    {
     "data": {
      "image/png": "[encoded data removed]",
      "text/plain": [
       "<Figure size 864x576 with 1 Axes>"
      ]
     },
     "metadata": {
      "needs_background": "light"
     },
     "output_type": "display_data"
    }
   ],
   "source": [
    "# Setting the figure size\n",
    "plt.figure(figsize=(12,8))\n",
    "\n",
    "# Plotting the bar\n",
    "sb.barplot(data=bike_data, x='time', y='duration_min', order = hour_order, ci=None, hue='user_type')\n",
    "plt.xlabel('Hour of the day', fontsize=14)\n",
    "plt.ylabel('Duration of Rides (Minutes)', fontsize=14)\n",
    "plt.title('Hourly Duration of Rides by User Type', fontsize = 18);"
   ]
  },
  {
   "cell_type": "markdown",
   "id": "loving-freedom",
   "metadata": {},
   "source": [
    "### Observation:\n",
    "- Suprisingly, it was observed that both consumers and subscribers took their longest trips at 3AM in the morning."
   ]
  },
  {
   "cell_type": "markdown",
   "id": "dried-thirty",
   "metadata": {},
   "source": [
    "### Question 4: What is the relationship between age and duration for bike sharing options?"
   ]
  },
  {
   "cell_type": "markdown",
   "id": "honey-flight",
   "metadata": {},
   "source": [
    "### Visualization"
   ]
  },
  {
   "cell_type": "code",
   "execution_count": 514,
   "id": "discrete-brisbane",
   "metadata": {},
   "outputs": [
    {
     "data": {
      "image/png": "[encoded data removed]",
      "text/plain": [
       "<Figure size 576x288 with 2 Axes>"
      ]
     },
     "metadata": {
      "needs_background": "light"
     },
     "output_type": "display_data"
    }
   ],
   "source": [
    "# Plotting the Scatterplot with FacetGrid\n",
    "g = sb.FacetGrid(data=bike_data, col='bike_share_for_all_trip', height=4)\n",
    "g.map(plt.scatter, 'age', 'duration_min', alpha=0.2)\n",
    "g.set(xlim=(18,100))\n",
    "g.set_xlabels('Age of Riders', fontsize = 10)\n",
    "g.set_ylabels('Duration of Trips Taken (Minutes)', fontsize = 8)\n",
    "\n",
    "# Setting the plot title\n",
    "plt.suptitle('Duration of Trips vs Age for Bike Sharing Options', y = 1.08, fontsize=18);"
   ]
  },
  {
   "cell_type": "markdown",
   "id": "automated-tutorial",
   "metadata": {},
   "source": [
    "### Observation:\n",
    "- For both bike sharing options, the riders below the age of 80 recorded longer duration of rides. \n",
    "- The riders with no bike share had spent more time on their trips than the ones with bike share."
   ]
  },
  {
   "cell_type": "markdown",
   "id": "cooked-might",
   "metadata": {},
   "source": [
    "### Question 5: How does the user type and gender affect the duration of rides?"
   ]
  },
  {
   "cell_type": "markdown",
   "id": "environmental-answer",
   "metadata": {},
   "source": [
    "### Visualization"
   ]
  },
  {
   "cell_type": "code",
   "execution_count": 515,
   "id": "adult-passenger",
   "metadata": {},
   "outputs": [
    {
     "data": {
      "image/png": "[encoded data removed]",
      "text/plain": [
       "<Figure size 648x432 with 6 Axes>"
      ]
     },
     "metadata": {
      "needs_background": "light"
     },
     "output_type": "display_data"
    }
   ],
   "source": [
    "# Plotting the scatterplot with a FacetGrid\n",
    "g = sb.FacetGrid(data = bike_data, col = 'member_gender', row = 'user_type', margin_titles = True)\n",
    "g.map(plt.scatter, 'age', 'duration_min', alpha = 0.3)\n",
    "g.set(xlim=(18,100))\n",
    "g.set_xlabels('Age of Riders', fontsize = 10)\n",
    "g.set_ylabels('Duration of Trips Taken (Minutes)', fontsize = 8)\n",
    "\n",
    "# Setting the plot title\n",
    "plt.suptitle('Duration of Rides by User Type and Gender', y = 1.08, fontsize=18);"
   ]
  },
  {
   "cell_type": "markdown",
   "id": "psychological-middle",
   "metadata": {},
   "source": [
    "### Observation:\n",
    "- It can be observed that the riders below the age of 60 had the longest duration of rides across all gender and user types."
   ]
  },
  {
   "cell_type": "markdown",
   "id": "raised-policy",
   "metadata": {},
   "source": [
    "### Question 6: What is the average age riders by gender and user type?"
   ]
  },
  {
   "cell_type": "code",
   "execution_count": 516,
   "id": "fitting-enough",
   "metadata": {},
   "outputs": [
    {
     "data": {
      "text/plain": [
       "member_gender  bike_share_for_all_trip\n",
       "Female         No                         33.280797\n",
       "               Yes                        32.562222\n",
       "Male           No                         34.693211\n",
       "               Yes                        32.285562\n",
       "Other          No                         35.810253\n",
       "               Yes                        36.197531\n",
       "Name: age, dtype: float64"
      ]
     },
     "execution_count": 516,
     "metadata": {},
     "output_type": "execute_result"
    }
   ],
   "source": [
    "bike_data.groupby(['member_gender', 'bike_share_for_all_trip']).mean()['age']\n"
   ]
  },
  {
   "cell_type": "markdown",
   "id": "fatal-purple",
   "metadata": {},
   "source": [
    "### Visualization"
   ]
  },
  {
   "cell_type": "code",
   "execution_count": 517,
   "id": "standing-junior",
   "metadata": {},
   "outputs": [
    {
     "data": {
      "image/png": "[encoded data removed]",
      "text/plain": [
       "<Figure size 576x432 with 2 Axes>"
      ]
     },
     "metadata": {
      "needs_background": "light"
     },
     "output_type": "display_data"
    }
   ],
   "source": [
    "# Calculating the average age by gender and user_type\n",
    "age_avg = bike_data.groupby(['member_gender', 'user_type']).mean()['age']\n",
    "\n",
    "# Resetting the average age as index\n",
    "age_avg = age_avg.reset_index(name= 'Age_Average')\n",
    "\n",
    "# Converting the calculated average intto a dataframe\n",
    "age_avg = age_avg.pivot(index = 'user_type', columns = 'member_gender', values = 'Age_Average')\n",
    "\n",
    "# Setting the figure size\n",
    "plt.figure(figsize=(8,6))\n",
    "\n",
    "# Plotting the Heatmap\n",
    "ax = sb.heatmap(age_avg, annot = True, fmt = '.1f', cmap = 'viridis_r', cbar_kws = {'label' : 'Mean (Age)'})\n",
    "ax.set_xlabel('Gender', fontsize = 14)\n",
    "ax.set_ylabel('User Type', fontsize = 14)\n",
    "ax.set_title('Average Age of Riders by Gender & User Type', y = 1.08, fontsize = 18);"
   ]
  },
  {
   "cell_type": "markdown",
   "id": "fallen-ordinary",
   "metadata": {},
   "source": [
    "### Observation:\n",
    "- For the both Customers and Subscribers, the other gender had the oldest riders with an average age of 34.9 and 36 respectfully.\n",
    "- Also, the female riders had youngest riders for both user types."
   ]
  },
  {
   "cell_type": "markdown",
   "id": "classified-treasury",
   "metadata": {},
   "source": [
    "### Discuss the distribution(s) of your variable(s) of interest. Were there any unusual points? Did you need to perform any transformations?\n",
    "><br> The distribution of ride duration vs riders age were investigated especially in respect to user type, gender and bike sharing option.\n",
    "\n",
    "### Of the features you investigated, were there any unusual distributions? Did you perform any operations on the data to tidy, adjust, or change the form of the data? If so, why did you do this?\n",
    "\n",
    "> In the investigation of hourly duration of rides by user types, it was observed that hourly duration of rides for customers were very high at 3AM!"
   ]
  },
  {
   "cell_type": "markdown",
   "id": "deadly-advantage",
   "metadata": {},
   "source": [
    "## Conclusions\n",
    "<br>1. Riders in the age group of 25 - 40 had the highest number of trips taken.</br>\n",
    "<br>2. About 75% of the riders are Males.</br>\n",
    "<br>3. 90% of the riders are Subscribers.</br>\n",
    "<br>4. Most of the trips taken only lasted for about 5 - 12.5 minutes.</br>\n",
    "<br>5. Thursdays have the highest number of trips.</br>\n",
    "<br>6. Subscriber completes at least thrice the number of Customers rides daily.</br>\n",
    "<br>7. Weekends have lesser number of trips, therefore it records higher average ride time compared to weekdays.</br>\n",
    "<br>8. The average ride time for riders who shared bikes and those that didn't was almost the same.</br>\n",
    "<br>9. The average age of Female subcribers is 33.3 and for female customer is 32.7.</br>\n",
    "<br>10. The average age of male subscribers is 34.5 while for male customers is 33.9.</br>\n",
    "<br>11. The average age of subscribers of the other gender is 36 while for those that are customers is 34.9.</br>"
   ]
  },
  {
   "cell_type": "code",
   "execution_count": null,
   "id": "retained-cathedral",
   "metadata": {},
   "outputs": [],
   "source": []
  }
 ],
 "metadata": {
  "kernelspec": {
   "display_name": "Python 3",
   "language": "python",
   "name": "python3"
  },
  "language_info": {
   "codemirror_mode": {
    "name": "ipython",
    "version": 3
   },
   "file_extension": ".py",
   "mimetype": "text/x-python",
   "name": "python",
   "nbconvert_exporter": "python",
   "pygments_lexer": "ipython3",
   "version": "3.9.1"
  }
 },
 "nbformat": 4,
 "nbformat_minor": 5
}
